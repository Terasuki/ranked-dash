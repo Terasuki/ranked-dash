{
 "cells": [
  {
   "cell_type": "code",
   "execution_count": 1,
   "metadata": {
    "tags": []
   },
   "outputs": [],
   "source": [
    "import pandas as pd\n",
    "import numpy as np\n",
    "import matplotlib.pyplot as plt\n",
    "import seaborn as sns\n",
    "import glob\n",
    "import os\n",
    "\n",
    "from sklearn.model_selection import train_test_split\n",
    "from sklearn.preprocessing import StandardScaler, OneHotEncoder, MultiLabelBinarizer\n",
    "from sklearn.compose import make_column_transformer\n",
    "\n",
    "from tensorflow.keras import layers\n",
    "from tensorflow import keras\n",
    "\n",
    "import xgboost as xgb\n",
    "\n",
    "import shap"
   ]
  },
  {
   "cell_type": "markdown",
   "metadata": {},
   "source": [
    "## Load Data\n",
    "The files are organised in the respective mode and time of the day, using many JSON files.\n",
    "It is helpful to use glob here to index all of them quickly."
   ]
  },
  {
   "cell_type": "code",
   "execution_count": 2,
   "metadata": {},
   "outputs": [
    {
     "name": "stdout",
     "output_type": "stream",
     "text": [
      "<class 'pandas.core.frame.DataFrame'>\n",
      "RangeIndex: 7435 entries, 0 to 7434\n",
      "Data columns (total 24 columns):\n",
      " #   Column         Non-Null Count  Dtype  \n",
      "---  ------         --------------  -----  \n",
      " 0   gameMode       7435 non-null   object \n",
      " 1   name           7435 non-null   object \n",
      " 2   artist         7435 non-null   object \n",
      " 3   anime          7435 non-null   object \n",
      " 4   annId          7435 non-null   int64  \n",
      " 5   songNumber     7435 non-null   int64  \n",
      " 6   activePlayers  7435 non-null   int64  \n",
      " 7   totalPlayers   7435 non-null   int64  \n",
      " 8   type           7435 non-null   object \n",
      " 9   urls           7435 non-null   object \n",
      " 10  siteIds        7435 non-null   object \n",
      " 11  difficulty     7435 non-null   object \n",
      " 12  animeType      7435 non-null   object \n",
      " 13  animeScore     7435 non-null   float64\n",
      " 14  vintage        7435 non-null   object \n",
      " 15  tags           7435 non-null   object \n",
      " 16  genre          7435 non-null   object \n",
      " 17  altAnswers     7435 non-null   object \n",
      " 18  startSample    7431 non-null   float64\n",
      " 19  videoLength    7424 non-null   float64\n",
      " 20  players        7435 non-null   object \n",
      " 21  fromList       7435 non-null   object \n",
      " 22  correct        7435 non-null   object \n",
      " 23  selfAnswer     7435 non-null   object \n",
      "dtypes: float64(3), int64(4), object(17)\n",
      "memory usage: 1.4+ MB\n"
     ]
    }
   ],
   "source": [
    "path_central_novice = r'C:\\Users\\imnku\\Documents\\Data Analysis\\AMQ\\CentralR-N'\n",
    "all_files_central_novice = glob.glob(os.path.join(path_central_novice, \"*.json\"))\n",
    "\n",
    "central_novice = pd.concat((pd.read_json(f) for f in all_files_central_novice), ignore_index=True)\n",
    "\n",
    "path_east_novice = r'C:\\Users\\imnku\\Documents\\Data Analysis\\AMQ\\EastR-N'\n",
    "all_files_east_novice = glob.glob(os.path.join(path_east_novice, \"*.json\"))\n",
    "\n",
    "east_novice = pd.concat((pd.read_json(f) for f in all_files_east_novice), ignore_index=True)\n",
    "\n",
    "path_east_expert = r'C:\\Users\\imnku\\Documents\\Data Analysis\\AMQ\\EastR-E'\n",
    "all_files_east_expert = glob.glob(os.path.join(path_east_expert, \"*.json\"))\n",
    "\n",
    "east_expert = pd.concat((pd.read_json(f) for f in all_files_east_expert), ignore_index=True)\n",
    "\n",
    "path_central_expert = r'C:\\Users\\imnku\\Documents\\Data Analysis\\AMQ\\CentralR-E'\n",
    "all_files_central_expert = glob.glob(os.path.join(path_central_expert, \"*.json\"))\n",
    "\n",
    "central_expert = pd.concat((pd.read_json(f) for f in all_files_central_expert), ignore_index=True)\n",
    "\n",
    "expert = pd.concat(([central_expert, east_expert]), ignore_index=True)\n",
    "novice = pd.concat(([central_novice, east_novice]), ignore_index=True)\n",
    "both = pd.concat(([novice, expert]), ignore_index=True)\n",
    "both.info()"
   ]
  },
  {
   "cell_type": "markdown",
   "metadata": {},
   "source": [
    "## Data cleaning & feature engineering\n",
    "We drop:\n",
    "- The site indentifier(s) and URLs: too specific.\n",
    "- ANN anime score: broken statistic, though would be nice if to use if it was not.\n",
    "- Gamemode: always ranked.\n",
    "- Own answer: only useful for us.\n",
    "- From whose list the anime is: lists are off in ranked.\n",
    "\n",
    "Create:\n",
    "- We remove the number from type of song (too many).\n",
    "- We use the only the year.\n",
    "- Normalise the sample point of where the song plays."
   ]
  },
  {
   "cell_type": "code",
   "execution_count": 4,
   "metadata": {
    "tags": []
   },
   "outputs": [],
   "source": [
    "novice = both.copy()"
   ]
  },
  {
   "cell_type": "code",
   "execution_count": 5,
   "metadata": {},
   "outputs": [
    {
     "name": "stdout",
     "output_type": "stream",
     "text": [
      "<class 'pandas.core.frame.DataFrame'>\n",
      "Int64Index: 7378 entries, 0 to 7389\n",
      "Data columns (total 7 columns):\n",
      " #   Column         Non-Null Count  Dtype  \n",
      "---  ------         --------------  -----  \n",
      " 0   difficulty     7378 non-null   float64\n",
      " 1   animeType      7378 non-null   object \n",
      " 2   tags           7378 non-null   object \n",
      " 3   genre          7378 non-null   object \n",
      " 4   samplePercent  7378 non-null   float64\n",
      " 5   type_noNumber  7378 non-null   object \n",
      " 6   AiredYear      7378 non-null   int32  \n",
      "dtypes: float64(2), int32(1), object(4)\n",
      "memory usage: 432.3+ KB\n",
      "None\n",
      "<class 'pandas.core.series.Series'>\n",
      "Int64Index: 7378 entries, 0 to 7389\n",
      "Series name: correct\n",
      "Non-Null Count  Dtype\n",
      "--------------  -----\n",
      "7378 non-null   bool \n",
      "dtypes: bool(1)\n",
      "memory usage: 64.8 KB\n",
      "None\n"
     ]
    }
   ],
   "source": [
    "novice['correct'] = novice['correct'].astype(np.bool_)\n",
    "X = novice.drop(['annId', 'urls', 'siteIds', 'animeScore', 'altAnswers', 'fromList', 'gameMode', 'selfAnswer'], axis=1).copy()\n",
    "X = X.dropna()\n",
    "X = X.loc[~(X['difficulty'] == 'Unrated')]\n",
    "X = X.astype({'difficulty': float})\n",
    "y = X.pop('correct')\n",
    "\n",
    "X['samplePercent'] = X['startSample']/X['videoLength']\n",
    "X['type_noNumber'] = X['type'].str.split().str[0]\n",
    "X['AiredYear'] = X['vintage'].str.split().str[1].astype(int)\n",
    "\n",
    "X = X.drop(['name', 'artist', 'anime', 'songNumber', 'activePlayers', 'totalPlayers', 'type', 'vintage',\n",
    "            'startSample', 'videoLength', 'players'], axis=1)\n",
    "\n",
    "print(X.info())\n",
    "print(y.info())"
   ]
  },
  {
   "cell_type": "markdown",
   "metadata": {},
   "source": [
    "## Data preprocessing"
   ]
  },
  {
   "cell_type": "code",
   "execution_count": 6,
   "metadata": {},
   "outputs": [],
   "source": [
    "data_list = ['tags', 'genre']\n",
    "data_num = ['difficulty', 'samplePercent', 'AiredYear']\n",
    "data_cat = ['animeType', 'type_noNumber']\n",
    "\n",
    "mlb = MultiLabelBinarizer()\n",
    "s = X['tags']\n",
    "dummy = pd.DataFrame(mlb.fit_transform(s), columns=mlb.classes_, index=X.index)\n",
    "X = pd.concat([X, dummy], axis=1)\n",
    "\n",
    "s = X['genre']\n",
    "dummy = pd.DataFrame(mlb.fit_transform(s), columns=mlb.classes_, index=X.index)\n",
    "X = pd.concat([X, dummy], axis=1)\n",
    "\n",
    "X = X.drop(['tags', 'genre'], axis=1)\n",
    "\n",
    "X = pd.get_dummies(X, columns=data_cat)\n",
    "\"\"\"\n",
    "scaler = StandardScaler()\n",
    "s = X[data_num]\n",
    "dummy = pd.DataFrame(scaler.fit_transform(s), columns=s.columns, index=X.index)\n",
    "X = X.drop(data_num, axis=1)\n",
    "X = pd.concat([X, dummy], axis=1)\n",
    "\"\"\"\n",
    "preproc = make_column_transformer(\n",
    "    (StandardScaler(), data_num), remainder='passthrough')\n",
    "\n",
    "\n",
    "X_train, X_valid_initial, y_train, y_valid = train_test_split(X, y, train_size=0.75, random_state=1)\n",
    "X_train = preproc.fit_transform(X_train)\n",
    "X_valid = preproc.transform(X_valid_initial)"
   ]
  },
  {
   "cell_type": "markdown",
   "metadata": {},
   "source": [
    "## Define and train a neural network"
   ]
  },
  {
   "cell_type": "code",
   "execution_count": 7,
   "metadata": {},
   "outputs": [
    {
     "name": "stdout",
     "output_type": "stream",
     "text": [
      "Epoch 1/50\n",
      "346/346 [==============================] - 2s 2ms/step - loss: 0.5175 - binary_accuracy: 0.7497 - val_loss: 0.3971 - val_binary_accuracy: 0.8293\n",
      "Epoch 2/50\n",
      "346/346 [==============================] - 1s 2ms/step - loss: 0.3890 - binary_accuracy: 0.8265 - val_loss: 0.3826 - val_binary_accuracy: 0.8369\n",
      "Epoch 3/50\n",
      "346/346 [==============================] - 1s 2ms/step - loss: 0.3617 - binary_accuracy: 0.8437 - val_loss: 0.3786 - val_binary_accuracy: 0.8407\n",
      "Epoch 4/50\n",
      "346/346 [==============================] - 1s 2ms/step - loss: 0.3444 - binary_accuracy: 0.8523 - val_loss: 0.3812 - val_binary_accuracy: 0.8374\n",
      "Epoch 5/50\n",
      "346/346 [==============================] - 1s 2ms/step - loss: 0.3290 - binary_accuracy: 0.8552 - val_loss: 0.3820 - val_binary_accuracy: 0.8341\n",
      "Epoch 6/50\n",
      "346/346 [==============================] - 1s 2ms/step - loss: 0.3122 - binary_accuracy: 0.8664 - val_loss: 0.3957 - val_binary_accuracy: 0.8238\n",
      "Epoch 7/50\n",
      "346/346 [==============================] - 1s 2ms/step - loss: 0.2983 - binary_accuracy: 0.8720 - val_loss: 0.3963 - val_binary_accuracy: 0.8271\n",
      "Epoch 8/50\n",
      "346/346 [==============================] - 1s 2ms/step - loss: 0.2835 - binary_accuracy: 0.8760 - val_loss: 0.4169 - val_binary_accuracy: 0.8276\n"
     ]
    }
   ],
   "source": [
    "nn = keras.Sequential([\n",
    "    layers.Dense(16, input_shape=[X_train.shape[1]], activation='relu'),\n",
    "    layers.Dense(16, activation='relu'),\n",
    "    layers.Dense(16, activation='relu'),\n",
    "    layers.Dense(16, activation='relu'),\n",
    "    layers.Dense(1, activation='sigmoid')\n",
    "])\n",
    "\n",
    "nn.compile('adam', loss='binary_crossentropy', metrics=['binary_accuracy'])\n",
    "early_stopping = keras.callbacks.EarlyStopping(\n",
    "    patience=5,\n",
    "    min_delta=0.0001,\n",
    "    restore_best_weights=True,\n",
    ")\n",
    "\n",
    "history = nn.fit(\n",
    "    X_train, y_train,\n",
    "    validation_data=(X_valid, y_valid),\n",
    "    batch_size=16,\n",
    "    epochs=50,\n",
    "    callbacks=[early_stopping],\n",
    ")"
   ]
  },
  {
   "cell_type": "code",
   "execution_count": 8,
   "metadata": {},
   "outputs": [
    {
     "data": {
      "text/plain": [
       "<AxesSubplot: title={'center': 'Accuracy'}>"
      ]
     },
     "execution_count": 8,
     "metadata": {},
     "output_type": "execute_result"
    },
    {
     "data": {
      "image/png": "[encoded data removed]",
      "text/plain": [
       "<Figure size 640x480 with 1 Axes>"
      ]
     },
     "metadata": {},
     "output_type": "display_data"
    },
    {
     "data": {
      "image/png": "[encoded data removed]",
      "text/plain": [
       "<Figure size 640x480 with 1 Axes>"
      ]
     },
     "metadata": {},
     "output_type": "display_data"
    }
   ],
   "source": [
    "history_df = pd.DataFrame(history.history)\n",
    "history_df.loc[:, ['loss', 'val_loss']].plot(title=\"Cross-entropy\")\n",
    "history_df.loc[:, ['binary_accuracy', 'val_binary_accuracy']].plot(title=\"Accuracy\")"
   ]
  },
  {
   "cell_type": "code",
   "execution_count": 9,
   "metadata": {
    "tags": []
   },
   "outputs": [
    {
     "name": "stdout",
     "output_type": "stream",
     "text": [
      "Model: \"sequential\"\n",
      "_________________________________________________________________\n",
      " Layer (type)                Output Shape              Param #   \n",
      "=================================================================\n",
      " dense (Dense)               (None, 16)                5040      \n",
      "                                                                 \n",
      " dense_1 (Dense)             (None, 16)                272       \n",
      "                                                                 \n",
      " dense_2 (Dense)             (None, 16)                272       \n",
      "                                                                 \n",
      " dense_3 (Dense)             (None, 16)                272       \n",
      "                                                                 \n",
      " dense_4 (Dense)             (None, 1)                 17        \n",
      "                                                                 \n",
      "=================================================================\n",
      "Total params: 5,873\n",
      "Trainable params: 5,873\n",
      "Non-trainable params: 0\n",
      "_________________________________________________________________\n"
     ]
    }
   ],
   "source": [
    "nn.summary()"
   ]
  },
  {
   "cell_type": "code",
   "execution_count": 10,
   "metadata": {},
   "outputs": [
    {
     "name": "stdout",
     "output_type": "stream",
     "text": [
      "58/58 [==============================] - 0s 1ms/step\n",
      "(125,)\n"
     ]
    },
    {
     "data": {
      "text/plain": [
       "count    1845.000000\n",
       "mean        0.511650\n",
       "std         0.378739\n",
       "min         0.000558\n",
       "25%         0.083608\n",
       "50%         0.575679\n",
       "75%         0.905537\n",
       "max         0.993970\n",
       "dtype: float64"
      ]
     },
     "execution_count": 10,
     "metadata": {},
     "output_type": "execute_result"
    }
   ],
   "source": [
    "pred = np.array(nn.predict(X_valid))\n",
    "pred = pd.Series(pred.flatten(), index=y_valid.index)\n",
    "false_val = pred.loc[pred < 0.5] # Model predicts miss\n",
    "\n",
    "a = np.array(false_val.index)\n",
    "b = np.array(y_valid[y_valid < 0.5].index) # Actual miss\n",
    "diff = np.setdiff1d(a, b) # Model misses - actual misses = Things the network thinks you will miss but you didn't miss\n",
    "print(diff.shape)\n",
    "pred.describe()"
   ]
  },
  {
   "cell_type": "code",
   "execution_count": 11,
   "metadata": {},
   "outputs": [
    {
     "data": {
      "text/html": [
       "<div>\n",
       "<style scoped>\n",
       "    .dataframe tbody tr th:only-of-type {\n",
       "        vertical-align: middle;\n",
       "    }\n",
       "\n",
       "    .dataframe tbody tr th {\n",
       "        vertical-align: top;\n",
       "    }\n",
       "\n",
       "    .dataframe thead th {\n",
       "        text-align: right;\n",
       "    }\n",
       "</style>\n",
       "<table border=\"1\" class=\"dataframe\">\n",
       "  <thead>\n",
       "    <tr style=\"text-align: right;\">\n",
       "      <th></th>\n",
       "      <th>name</th>\n",
       "      <th>artist</th>\n",
       "      <th>anime</th>\n",
       "      <th>songNumber</th>\n",
       "      <th>activePlayers</th>\n",
       "      <th>totalPlayers</th>\n",
       "      <th>type</th>\n",
       "      <th>difficulty</th>\n",
       "      <th>animeType</th>\n",
       "      <th>vintage</th>\n",
       "      <th>tags</th>\n",
       "      <th>genre</th>\n",
       "      <th>startSample</th>\n",
       "      <th>videoLength</th>\n",
       "      <th>correct</th>\n",
       "    </tr>\n",
       "  </thead>\n",
       "  <tbody>\n",
       "    <tr>\n",
       "      <th>159</th>\n",
       "      <td>My Home Town</td>\n",
       "      <td>Sora Amamiya, Rie Takahashi, Ai Kayano</td>\n",
       "      <td>{'english': 'KONOSUBA: God's Blessing on This ...</td>\n",
       "      <td>25</td>\n",
       "      <td>228</td>\n",
       "      <td>239</td>\n",
       "      <td>Ending 1</td>\n",
       "      <td>41.0</td>\n",
       "      <td>movie</td>\n",
       "      <td>Summer 2019</td>\n",
       "      <td>[Demons, Magic, Parody, Satire, Male Protagoni...</td>\n",
       "      <td>[Action, Adventure, Comedy, Fantasy, Supernatu...</td>\n",
       "      <td>23.0</td>\n",
       "      <td>89.59</td>\n",
       "      <td>True</td>\n",
       "    </tr>\n",
       "    <tr>\n",
       "      <th>203</th>\n",
       "      <td>Polka de Taka no Tsume</td>\n",
       "      <td>FROGMAN to Red Chili Gasshou-dan</td>\n",
       "      <td>{'english': 'Himitsu Kessha Taka no Tsume NEO'...</td>\n",
       "      <td>24</td>\n",
       "      <td>218</td>\n",
       "      <td>227</td>\n",
       "      <td>Ending 4</td>\n",
       "      <td>25.3</td>\n",
       "      <td>TV</td>\n",
       "      <td>Spring 2012</td>\n",
       "      <td>[Parody, Super Power]</td>\n",
       "      <td>[Comedy]</td>\n",
       "      <td>0.0</td>\n",
       "      <td>28.30</td>\n",
       "      <td>True</td>\n",
       "    </tr>\n",
       "    <tr>\n",
       "      <th>305</th>\n",
       "      <td>ME!ME!ME!</td>\n",
       "      <td>TeddyLoid feat. daoko</td>\n",
       "      <td>{'english': 'Japan Animator Expo', 'romaji': '...</td>\n",
       "      <td>36</td>\n",
       "      <td>225</td>\n",
       "      <td>238</td>\n",
       "      <td>Insert Song</td>\n",
       "      <td>30.9</td>\n",
       "      <td>ONA</td>\n",
       "      <td>Fall 2014</td>\n",
       "      <td>[Magic, Military, Swordplay, Space, Satire, Go...</td>\n",
       "      <td>[Action, Ecchi, Fantasy, Mecha, Music, Superna...</td>\n",
       "      <td>197.0</td>\n",
       "      <td>327.47</td>\n",
       "      <td>True</td>\n",
       "    </tr>\n",
       "    <tr>\n",
       "      <th>311</th>\n",
       "      <td>LIGHTS</td>\n",
       "      <td>Aimi</td>\n",
       "      <td>{'english': 'How a Realist Hero Rebuilt the Ki...</td>\n",
       "      <td>42</td>\n",
       "      <td>226</td>\n",
       "      <td>239</td>\n",
       "      <td>Ending 1</td>\n",
       "      <td>23.6</td>\n",
       "      <td>TV</td>\n",
       "      <td>Winter 2022</td>\n",
       "      <td>[Harem, Male Protagonist, Time Manipulation, P...</td>\n",
       "      <td>[Action, Adventure, Fantasy, Romance]</td>\n",
       "      <td>11.0</td>\n",
       "      <td>84.36</td>\n",
       "      <td>True</td>\n",
       "    </tr>\n",
       "    <tr>\n",
       "      <th>359</th>\n",
       "      <td>anemos</td>\n",
       "      <td>Anemoneria</td>\n",
       "      <td>{'english': 'Wonder Egg Priority', 'romaji': '...</td>\n",
       "      <td>45</td>\n",
       "      <td>230</td>\n",
       "      <td>255</td>\n",
       "      <td>Insert Song</td>\n",
       "      <td>17.9</td>\n",
       "      <td>special</td>\n",
       "      <td>Spring 2021</td>\n",
       "      <td>[Tragedy, Primarily Female Cast, Gore, Female ...</td>\n",
       "      <td>[Action, Drama, Fantasy, Mystery, Psychologica...</td>\n",
       "      <td>108.0</td>\n",
       "      <td>246.00</td>\n",
       "      <td>True</td>\n",
       "    </tr>\n",
       "    <tr>\n",
       "      <th>...</th>\n",
       "      <td>...</td>\n",
       "      <td>...</td>\n",
       "      <td>...</td>\n",
       "      <td>...</td>\n",
       "      <td>...</td>\n",
       "      <td>...</td>\n",
       "      <td>...</td>\n",
       "      <td>...</td>\n",
       "      <td>...</td>\n",
       "      <td>...</td>\n",
       "      <td>...</td>\n",
       "      <td>...</td>\n",
       "      <td>...</td>\n",
       "      <td>...</td>\n",
       "      <td>...</td>\n",
       "    </tr>\n",
       "    <tr>\n",
       "      <th>7076</th>\n",
       "      <td>Niji</td>\n",
       "      <td>Masaki Suda</td>\n",
       "      <td>{'english': 'Stand By Me Doraemon 2', 'romaji'...</td>\n",
       "      <td>27</td>\n",
       "      <td>57</td>\n",
       "      <td>58</td>\n",
       "      <td>Ending 1</td>\n",
       "      <td>21.3</td>\n",
       "      <td>movie</td>\n",
       "      <td>Fall 2020</td>\n",
       "      <td>[Kids, Full CGI, Time Manipulation, Robots]</td>\n",
       "      <td>[Adventure, Comedy, Fantasy]</td>\n",
       "      <td>156.0</td>\n",
       "      <td>233.52</td>\n",
       "      <td>True</td>\n",
       "    </tr>\n",
       "    <tr>\n",
       "      <th>7102</th>\n",
       "      <td>Kaze wa Yokoku Naku Fuku</td>\n",
       "      <td>Walküre</td>\n",
       "      <td>{'english': 'Macross Delta Movie: Zettai LIVE!...</td>\n",
       "      <td>53</td>\n",
       "      <td>58</td>\n",
       "      <td>60</td>\n",
       "      <td>Insert Song</td>\n",
       "      <td>36.3</td>\n",
       "      <td>movie</td>\n",
       "      <td>Fall 2021</td>\n",
       "      <td>[Military, Space, Tragedy, Idol, Robots, Musical]</td>\n",
       "      <td>[Action, Mecha, Music, Romance, Sci-Fi]</td>\n",
       "      <td>21.0</td>\n",
       "      <td>75.82</td>\n",
       "      <td>True</td>\n",
       "    </tr>\n",
       "    <tr>\n",
       "      <th>7136</th>\n",
       "      <td>Susume! Mujina Company</td>\n",
       "      <td>Neko Hacker feat. Rina Hidaka &amp; Hisako Kanemot...</td>\n",
       "      <td>{'english': 'Cute Executive Officer', 'romaji'...</td>\n",
       "      <td>2</td>\n",
       "      <td>53</td>\n",
       "      <td>53</td>\n",
       "      <td>Opening 1</td>\n",
       "      <td>19.0</td>\n",
       "      <td>ONA</td>\n",
       "      <td>Winter 2021</td>\n",
       "      <td>[Cute Girls Doing Cute Things, Work, Surreal C...</td>\n",
       "      <td>[Comedy]</td>\n",
       "      <td>5.0</td>\n",
       "      <td>89.21</td>\n",
       "      <td>True</td>\n",
       "    </tr>\n",
       "    <tr>\n",
       "      <th>7180</th>\n",
       "      <td>Kyun♥Kyun everyday</td>\n",
       "      <td>Haruko Aoki</td>\n",
       "      <td>{'english': 'Rescue Me!', 'romaji': 'Rescue Me!'}</td>\n",
       "      <td>46</td>\n",
       "      <td>55</td>\n",
       "      <td>58</td>\n",
       "      <td>Ending 1</td>\n",
       "      <td>27.2</td>\n",
       "      <td>OVA</td>\n",
       "      <td>Spring 2013</td>\n",
       "      <td>[Harem, Male Protagonist, Nudity]</td>\n",
       "      <td>[Comedy, Ecchi, Romance]</td>\n",
       "      <td>24.0</td>\n",
       "      <td>71.04</td>\n",
       "      <td>True</td>\n",
       "    </tr>\n",
       "    <tr>\n",
       "      <th>7222</th>\n",
       "      <td>HiDE the BLUE</td>\n",
       "      <td>BiSH</td>\n",
       "      <td>{'english': 'Real Girl', 'romaji': '3D Kanojo ...</td>\n",
       "      <td>3</td>\n",
       "      <td>51</td>\n",
       "      <td>51</td>\n",
       "      <td>Ending 1</td>\n",
       "      <td>24.3</td>\n",
       "      <td>TV</td>\n",
       "      <td>Spring 2018</td>\n",
       "      <td>[School, Shoujo, Male Protagonist, Otaku Cultu...</td>\n",
       "      <td>[Comedy, Drama, Romance, Slice of Life]</td>\n",
       "      <td>14.0</td>\n",
       "      <td>86.35</td>\n",
       "      <td>True</td>\n",
       "    </tr>\n",
       "  </tbody>\n",
       "</table>\n",
       "<p>125 rows × 15 columns</p>\n",
       "</div>"
      ],
      "text/plain": [
       "                          name  \\\n",
       "159               My Home Town   \n",
       "203     Polka de Taka no Tsume   \n",
       "305                  ME!ME!ME!   \n",
       "311                     LIGHTS   \n",
       "359                     anemos   \n",
       "...                        ...   \n",
       "7076                      Niji   \n",
       "7102  Kaze wa Yokoku Naku Fuku   \n",
       "7136    Susume! Mujina Company   \n",
       "7180        Kyun♥Kyun everyday   \n",
       "7222             HiDE the BLUE   \n",
       "\n",
       "                                                 artist  \\\n",
       "159              Sora Amamiya, Rie Takahashi, Ai Kayano   \n",
       "203                    FROGMAN to Red Chili Gasshou-dan   \n",
       "305                               TeddyLoid feat. daoko   \n",
       "311                                                Aimi   \n",
       "359                                          Anemoneria   \n",
       "...                                                 ...   \n",
       "7076                                        Masaki Suda   \n",
       "7102                                            Walküre   \n",
       "7136  Neko Hacker feat. Rina Hidaka & Hisako Kanemot...   \n",
       "7180                                        Haruko Aoki   \n",
       "7222                                               BiSH   \n",
       "\n",
       "                                                  anime  songNumber  \\\n",
       "159   {'english': 'KONOSUBA: God's Blessing on This ...          25   \n",
       "203   {'english': 'Himitsu Kessha Taka no Tsume NEO'...          24   \n",
       "305   {'english': 'Japan Animator Expo', 'romaji': '...          36   \n",
       "311   {'english': 'How a Realist Hero Rebuilt the Ki...          42   \n",
       "359   {'english': 'Wonder Egg Priority', 'romaji': '...          45   \n",
       "...                                                 ...         ...   \n",
       "7076  {'english': 'Stand By Me Doraemon 2', 'romaji'...          27   \n",
       "7102  {'english': 'Macross Delta Movie: Zettai LIVE!...          53   \n",
       "7136  {'english': 'Cute Executive Officer', 'romaji'...           2   \n",
       "7180  {'english': 'Rescue Me!', 'romaji': 'Rescue Me!'}          46   \n",
       "7222  {'english': 'Real Girl', 'romaji': '3D Kanojo ...           3   \n",
       "\n",
       "      activePlayers  totalPlayers         type difficulty animeType  \\\n",
       "159             228           239     Ending 1       41.0     movie   \n",
       "203             218           227     Ending 4       25.3        TV   \n",
       "305             225           238  Insert Song       30.9       ONA   \n",
       "311             226           239     Ending 1       23.6        TV   \n",
       "359             230           255  Insert Song       17.9   special   \n",
       "...             ...           ...          ...        ...       ...   \n",
       "7076             57            58     Ending 1       21.3     movie   \n",
       "7102             58            60  Insert Song       36.3     movie   \n",
       "7136             53            53    Opening 1       19.0       ONA   \n",
       "7180             55            58     Ending 1       27.2       OVA   \n",
       "7222             51            51     Ending 1       24.3        TV   \n",
       "\n",
       "          vintage                                               tags  \\\n",
       "159   Summer 2019  [Demons, Magic, Parody, Satire, Male Protagoni...   \n",
       "203   Spring 2012                              [Parody, Super Power]   \n",
       "305     Fall 2014  [Magic, Military, Swordplay, Space, Satire, Go...   \n",
       "311   Winter 2022  [Harem, Male Protagonist, Time Manipulation, P...   \n",
       "359   Spring 2021  [Tragedy, Primarily Female Cast, Gore, Female ...   \n",
       "...           ...                                                ...   \n",
       "7076    Fall 2020        [Kids, Full CGI, Time Manipulation, Robots]   \n",
       "7102    Fall 2021  [Military, Space, Tragedy, Idol, Robots, Musical]   \n",
       "7136  Winter 2021  [Cute Girls Doing Cute Things, Work, Surreal C...   \n",
       "7180  Spring 2013                  [Harem, Male Protagonist, Nudity]   \n",
       "7222  Spring 2018  [School, Shoujo, Male Protagonist, Otaku Cultu...   \n",
       "\n",
       "                                                  genre  startSample  \\\n",
       "159   [Action, Adventure, Comedy, Fantasy, Supernatu...         23.0   \n",
       "203                                            [Comedy]          0.0   \n",
       "305   [Action, Ecchi, Fantasy, Mecha, Music, Superna...        197.0   \n",
       "311               [Action, Adventure, Fantasy, Romance]         11.0   \n",
       "359   [Action, Drama, Fantasy, Mystery, Psychologica...        108.0   \n",
       "...                                                 ...          ...   \n",
       "7076                       [Adventure, Comedy, Fantasy]        156.0   \n",
       "7102            [Action, Mecha, Music, Romance, Sci-Fi]         21.0   \n",
       "7136                                           [Comedy]          5.0   \n",
       "7180                           [Comedy, Ecchi, Romance]         24.0   \n",
       "7222            [Comedy, Drama, Romance, Slice of Life]         14.0   \n",
       "\n",
       "      videoLength  correct  \n",
       "159         89.59     True  \n",
       "203         28.30     True  \n",
       "305        327.47     True  \n",
       "311         84.36     True  \n",
       "359        246.00     True  \n",
       "...           ...      ...  \n",
       "7076       233.52     True  \n",
       "7102        75.82     True  \n",
       "7136        89.21     True  \n",
       "7180        71.04     True  \n",
       "7222        86.35     True  \n",
       "\n",
       "[125 rows x 15 columns]"
      ]
     },
     "execution_count": 11,
     "metadata": {},
     "output_type": "execute_result"
    }
   ],
   "source": [
    "novice.drop(['annId', 'urls', 'siteIds', 'animeScore', 'altAnswers', 'fromList', 'gameMode', 'selfAnswer', 'players'], axis=1).iloc[diff]"
   ]
  },
  {
   "cell_type": "code",
   "execution_count": 12,
   "metadata": {
    "tags": []
   },
   "outputs": [],
   "source": [
    "X_valid = pd.DataFrame(X_valid, columns=X.columns, index=X_valid_initial.index)\n",
    "test_r = X_valid.loc[(X_valid['difficulty'] < -0.2) & (X_valid['difficulty'] > -0.4)].iloc[0].name\n",
    "row = X_valid.loc[test_r]"
   ]
  },
  {
   "cell_type": "code",
   "execution_count": 13,
   "metadata": {},
   "outputs": [
    {
     "name": "stderr",
     "output_type": "stream",
     "text": [
      "Using 1845 background data samples could cause slower run times. Consider using shap.sample(data, K) or shap.kmeans(data, K) to summarize the background as K samples.\n"
     ]
    },
    {
     "ename": "KeyboardInterrupt",
     "evalue": "",
     "output_type": "error",
     "traceback": [
      "\u001b[1;31m---------------------------------------------------------------------------\u001b[0m",
      "\u001b[1;31mKeyboardInterrupt\u001b[0m                         Traceback (most recent call last)",
      "Cell \u001b[1;32mIn[13], line 2\u001b[0m\n\u001b[0;32m      1\u001b[0m explainer \u001b[38;5;241m=\u001b[39m shap\u001b[38;5;241m.\u001b[39mKernelExplainer(nn, X_valid)\n\u001b[1;32m----> 2\u001b[0m shap_values \u001b[38;5;241m=\u001b[39m \u001b[43mexplainer\u001b[49m\u001b[38;5;241;43m.\u001b[39;49m\u001b[43mshap_values\u001b[49m\u001b[43m(\u001b[49m\u001b[43mrow\u001b[49m\u001b[43m)\u001b[49m\n\u001b[0;32m      4\u001b[0m shap\u001b[38;5;241m.\u001b[39minitjs()\n\u001b[0;32m      5\u001b[0m shap\u001b[38;5;241m.\u001b[39mforce_plot(explainer\u001b[38;5;241m.\u001b[39mexpected_value[\u001b[38;5;241m0\u001b[39m], shap_values[\u001b[38;5;241m0\u001b[39m], row)\n",
      "File \u001b[1;32m~\\AppData\\Local\\Packages\\PythonSoftwareFoundation.Python.3.10_qbz5n2kfra8p0\\LocalCache\\local-packages\\Python310\\site-packages\\shap\\explainers\\_kernel.py:167\u001b[0m, in \u001b[0;36mKernel.shap_values\u001b[1;34m(self, X, **kwargs)\u001b[0m\n\u001b[0;32m    165\u001b[0m \u001b[38;5;28;01mif\u001b[39;00m \u001b[38;5;28mself\u001b[39m\u001b[38;5;241m.\u001b[39mkeep_index:\n\u001b[0;32m    166\u001b[0m     data \u001b[38;5;241m=\u001b[39m convert_to_instance_with_index(data, column_name, index_name, index_value)\n\u001b[1;32m--> 167\u001b[0m explanation \u001b[38;5;241m=\u001b[39m \u001b[38;5;28mself\u001b[39m\u001b[38;5;241m.\u001b[39mexplain(data, \u001b[38;5;241m*\u001b[39m\u001b[38;5;241m*\u001b[39mkwargs)\n\u001b[0;32m    169\u001b[0m \u001b[38;5;66;03m# vector-output\u001b[39;00m\n\u001b[0;32m    170\u001b[0m s \u001b[38;5;241m=\u001b[39m explanation\u001b[38;5;241m.\u001b[39mshape\n",
      "File \u001b[1;32m~\\AppData\\Local\\Packages\\PythonSoftwareFoundation.Python.3.10_qbz5n2kfra8p0\\LocalCache\\local-packages\\Python310\\site-packages\\shap\\explainers\\_kernel.py:217\u001b[0m, in \u001b[0;36mKernel.explain\u001b[1;34m(self, incoming_instance, **kwargs)\u001b[0m\n\u001b[0;32m    213\u001b[0m match_instance_to_data(instance, \u001b[38;5;28mself\u001b[39m\u001b[38;5;241m.\u001b[39mdata)\n\u001b[0;32m    215\u001b[0m \u001b[38;5;66;03m# find the feature groups we will test. If a feature does not change from its\u001b[39;00m\n\u001b[0;32m    216\u001b[0m \u001b[38;5;66;03m# current value then we know it doesn't impact the model\u001b[39;00m\n\u001b[1;32m--> 217\u001b[0m \u001b[38;5;28mself\u001b[39m\u001b[38;5;241m.\u001b[39mvaryingInds \u001b[38;5;241m=\u001b[39m \u001b[38;5;28;43mself\u001b[39;49m\u001b[38;5;241;43m.\u001b[39;49m\u001b[43mvarying_groups\u001b[49m\u001b[43m(\u001b[49m\u001b[43minstance\u001b[49m\u001b[38;5;241;43m.\u001b[39;49m\u001b[43mx\u001b[49m\u001b[43m)\u001b[49m\n\u001b[0;32m    218\u001b[0m \u001b[38;5;28;01mif\u001b[39;00m \u001b[38;5;28mself\u001b[39m\u001b[38;5;241m.\u001b[39mdata\u001b[38;5;241m.\u001b[39mgroups \u001b[38;5;129;01mis\u001b[39;00m \u001b[38;5;28;01mNone\u001b[39;00m:\n\u001b[0;32m    219\u001b[0m     \u001b[38;5;28mself\u001b[39m\u001b[38;5;241m.\u001b[39mvaryingFeatureGroups \u001b[38;5;241m=\u001b[39m np\u001b[38;5;241m.\u001b[39marray([i \u001b[38;5;28;01mfor\u001b[39;00m i \u001b[38;5;129;01min\u001b[39;00m \u001b[38;5;28mself\u001b[39m\u001b[38;5;241m.\u001b[39mvaryingInds])\n",
      "File \u001b[1;32m~\\AppData\\Local\\Packages\\PythonSoftwareFoundation.Python.3.10_qbz5n2kfra8p0\\LocalCache\\local-packages\\Python310\\site-packages\\shap\\explainers\\_kernel.py:417\u001b[0m, in \u001b[0;36mKernel.varying_groups\u001b[1;34m(self, x)\u001b[0m\n\u001b[0;32m    415\u001b[0m             \u001b[38;5;28;01mcontinue\u001b[39;00m\n\u001b[0;32m    416\u001b[0m         x_group \u001b[38;5;241m=\u001b[39m x_group\u001b[38;5;241m.\u001b[39mtodense()\n\u001b[1;32m--> 417\u001b[0m     num_mismatches \u001b[38;5;241m=\u001b[39m np\u001b[38;5;241m.\u001b[39msum(\u001b[43mnp\u001b[49m\u001b[38;5;241;43m.\u001b[39;49m\u001b[43mfrompyfunc\u001b[49m\u001b[43m(\u001b[49m\u001b[38;5;28;43mself\u001b[39;49m\u001b[38;5;241;43m.\u001b[39;49m\u001b[43mnot_equal\u001b[49m\u001b[43m,\u001b[49m\u001b[43m \u001b[49m\u001b[38;5;241;43m2\u001b[39;49m\u001b[43m,\u001b[49m\u001b[43m \u001b[49m\u001b[38;5;241;43m1\u001b[39;49m\u001b[43m)\u001b[49m\u001b[43m(\u001b[49m\u001b[43mx_group\u001b[49m\u001b[43m,\u001b[49m\u001b[43m \u001b[49m\u001b[38;5;28;43mself\u001b[39;49m\u001b[38;5;241;43m.\u001b[39;49m\u001b[43mdata\u001b[49m\u001b[38;5;241;43m.\u001b[39;49m\u001b[43mdata\u001b[49m\u001b[43m[\u001b[49m\u001b[43m:\u001b[49m\u001b[43m,\u001b[49m\u001b[43m \u001b[49m\u001b[43minds\u001b[49m\u001b[43m]\u001b[49m\u001b[43m)\u001b[49m)\n\u001b[0;32m    418\u001b[0m     varying[i] \u001b[38;5;241m=\u001b[39m num_mismatches \u001b[38;5;241m>\u001b[39m \u001b[38;5;241m0\u001b[39m\n\u001b[0;32m    419\u001b[0m varying_indices \u001b[38;5;241m=\u001b[39m np\u001b[38;5;241m.\u001b[39mnonzero(varying)[\u001b[38;5;241m0\u001b[39m]\n",
      "File \u001b[1;32m~\\AppData\\Local\\Packages\\PythonSoftwareFoundation.Python.3.10_qbz5n2kfra8p0\\LocalCache\\local-packages\\Python310\\site-packages\\shap\\explainers\\_kernel.py:402\u001b[0m, in \u001b[0;36mKernel.not_equal\u001b[1;34m(i, j)\u001b[0m\n\u001b[0;32m    400\u001b[0m number_types \u001b[38;5;241m=\u001b[39m (\u001b[38;5;28mint\u001b[39m, \u001b[38;5;28mfloat\u001b[39m, np\u001b[38;5;241m.\u001b[39mnumber)\n\u001b[0;32m    401\u001b[0m \u001b[38;5;28;01mif\u001b[39;00m \u001b[38;5;28misinstance\u001b[39m(i, number_types) \u001b[38;5;129;01mand\u001b[39;00m \u001b[38;5;28misinstance\u001b[39m(j, number_types):\n\u001b[1;32m--> 402\u001b[0m     \u001b[38;5;28;01mreturn\u001b[39;00m \u001b[38;5;241m0\u001b[39m \u001b[38;5;28;01mif\u001b[39;00m \u001b[43mnp\u001b[49m\u001b[38;5;241;43m.\u001b[39;49m\u001b[43misclose\u001b[49m\u001b[43m(\u001b[49m\u001b[43mi\u001b[49m\u001b[43m,\u001b[49m\u001b[43m \u001b[49m\u001b[43mj\u001b[49m\u001b[43m,\u001b[49m\u001b[43m \u001b[49m\u001b[43mequal_nan\u001b[49m\u001b[38;5;241;43m=\u001b[39;49m\u001b[38;5;28;43;01mTrue\u001b[39;49;00m\u001b[43m)\u001b[49m \u001b[38;5;28;01melse\u001b[39;00m \u001b[38;5;241m1\u001b[39m\n\u001b[0;32m    403\u001b[0m \u001b[38;5;28;01melse\u001b[39;00m:\n\u001b[0;32m    404\u001b[0m     \u001b[38;5;28;01mreturn\u001b[39;00m \u001b[38;5;241m0\u001b[39m \u001b[38;5;28;01mif\u001b[39;00m i \u001b[38;5;241m==\u001b[39m j \u001b[38;5;28;01melse\u001b[39;00m \u001b[38;5;241m1\u001b[39m\n",
      "File \u001b[1;32m<__array_function__ internals>:180\u001b[0m, in \u001b[0;36misclose\u001b[1;34m(*args, **kwargs)\u001b[0m\n",
      "File \u001b[1;32m~\\AppData\\Local\\Packages\\PythonSoftwareFoundation.Python.3.10_qbz5n2kfra8p0\\LocalCache\\local-packages\\Python310\\site-packages\\numpy\\core\\numeric.py:2369\u001b[0m, in \u001b[0;36misclose\u001b[1;34m(a, b, rtol, atol, equal_nan)\u001b[0m\n\u001b[0;32m   2361\u001b[0m \u001b[38;5;66;03m# Make sure y is an inexact type to avoid bad behavior on abs(MIN_INT).\u001b[39;00m\n\u001b[0;32m   2362\u001b[0m \u001b[38;5;66;03m# This will cause casting of x later. Also, make sure to allow subclasses\u001b[39;00m\n\u001b[0;32m   2363\u001b[0m \u001b[38;5;66;03m# (e.g., for numpy.ma).\u001b[39;00m\n\u001b[1;32m   (...)\u001b[0m\n\u001b[0;32m   2366\u001b[0m \u001b[38;5;66;03m#       timedelta works if `atol` is an integer or also a timedelta.\u001b[39;00m\n\u001b[0;32m   2367\u001b[0m \u001b[38;5;66;03m#       Although, the default tolerances are unlikely to be useful\u001b[39;00m\n\u001b[0;32m   2368\u001b[0m \u001b[38;5;28;01mif\u001b[39;00m y\u001b[38;5;241m.\u001b[39mdtype\u001b[38;5;241m.\u001b[39mkind \u001b[38;5;241m!=\u001b[39m \u001b[38;5;124m\"\u001b[39m\u001b[38;5;124mm\u001b[39m\u001b[38;5;124m\"\u001b[39m:\n\u001b[1;32m-> 2369\u001b[0m     dt \u001b[38;5;241m=\u001b[39m \u001b[43mmultiarray\u001b[49m\u001b[38;5;241;43m.\u001b[39;49m\u001b[43mresult_type\u001b[49m\u001b[43m(\u001b[49m\u001b[43my\u001b[49m\u001b[43m,\u001b[49m\u001b[43m \u001b[49m\u001b[38;5;241;43m1.\u001b[39;49m\u001b[43m)\u001b[49m\n\u001b[0;32m   2370\u001b[0m     y \u001b[38;5;241m=\u001b[39m asanyarray(y, dtype\u001b[38;5;241m=\u001b[39mdt)\n\u001b[0;32m   2372\u001b[0m xfin \u001b[38;5;241m=\u001b[39m isfinite(x)\n",
      "File \u001b[1;32m<__array_function__ internals>:179\u001b[0m, in \u001b[0;36mresult_type\u001b[1;34m(*args, **kwargs)\u001b[0m\n",
      "\u001b[1;31mKeyboardInterrupt\u001b[0m: "
     ]
    }
   ],
   "source": [
    "explainer = shap.KernelExplainer(nn, X_valid)\n",
    "shap_values = explainer.shap_values(row)\n",
    "\n",
    "shap.initjs()\n",
    "shap.force_plot(explainer.expected_value[0], shap_values[0], row)"
   ]
  },
  {
   "cell_type": "code",
   "execution_count": null,
   "metadata": {
    "tags": []
   },
   "outputs": [],
   "source": [
    "novice.drop(['annId', 'urls', 'siteIds', 'animeScore', 'altAnswers', 'fromList', 'gameMode', 'selfAnswer', 'players', 'activePlayers', 'totalPlayers'], axis=1).iloc[row.name]"
   ]
  },
  {
   "cell_type": "markdown",
   "metadata": {},
   "source": [
    "## XGBoost"
   ]
  },
  {
   "cell_type": "code",
   "execution_count": null,
   "metadata": {
    "tags": []
   },
   "outputs": [],
   "source": [
    "model = xgb.XGBRegressor(n_estimators=1000, eta=0.02, random_state=1, objective='binary:logistic')"
   ]
  },
  {
   "cell_type": "code",
   "execution_count": null,
   "metadata": {
    "tags": []
   },
   "outputs": [],
   "source": [
    "model.fit(X_train, y_train)\n",
    "\n",
    "pred = np.array(model.predict(X_valid))\n",
    "pred = pd.Series(pred.flatten(), index=y_valid.index)\n",
    "false_val = pred.loc[pred < 0.5] # Model predicts miss\n",
    "\n",
    "a = np.array(false_val.index)\n",
    "b = np.array(y_valid[y_valid < 0.5].index) # Actual miss\n",
    "diff = np.setdiff1d(a, b) # Model misses - actual misses = Things the network thinks you will miss but you didn't miss\n",
    "print(diff.shape)\n",
    "pred.describe()"
   ]
  },
  {
   "cell_type": "code",
   "execution_count": null,
   "metadata": {
    "tags": []
   },
   "outputs": [],
   "source": [
    "df = novice.drop(['annId', 'urls', 'siteIds', 'animeScore', 'altAnswers', 'fromList', 'gameMode', 'selfAnswer', 'players'], axis=1).iloc[diff]\n",
    "df"
   ]
  },
  {
   "cell_type": "code",
   "execution_count": 6,
   "metadata": {},
   "outputs": [
    {
     "data": {
      "text/plain": [
       "Natural               3\n",
       "close to you          3\n",
       "Adios DE Gundam       3\n",
       "Kyun♥Kyun everyday    3\n",
       "Yumemiru, Chikara     3\n",
       "                     ..\n",
       "Wataridori            1\n",
       "Makoto Period         1\n",
       "Beautiful Soldier     1\n",
       "edge                  1\n",
       "Kujira                1\n",
       "Name: name, Length: 1968, dtype: int64"
      ]
     },
     "execution_count": 6,
     "metadata": {},
     "output_type": "execute_result"
    }
   ],
   "source": [
    "expert['type_noNumber'] = expert['type'].str.split().str[0]\n",
    "expert['name'].value_counts()"
   ]
  },
  {
   "cell_type": "code",
   "execution_count": null,
   "metadata": {},
   "outputs": [],
   "source": []
  }
 ],
 "metadata": {
  "kernelspec": {
   "display_name": "Python 3 (ipykernel)",
   "language": "python",
   "name": "python3"
  },
  "language_info": {
   "codemirror_mode": {
    "name": "ipython",
    "version": 3
   },
   "file_extension": ".py",
   "mimetype": "text/x-python",
   "name": "python",
   "nbconvert_exporter": "python",
   "pygments_lexer": "ipython3",
   "version": "3.10.11"
  }
 },
 "nbformat": 4,
 "nbformat_minor": 4
}
